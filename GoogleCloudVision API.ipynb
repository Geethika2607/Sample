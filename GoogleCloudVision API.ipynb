{
 "cells": [
  {
   "cell_type": "code",
   "execution_count": 1,
   "id": "6ecf9fc9-1133-4462-b691-98d852b751f0",
   "metadata": {},
   "outputs": [
    {
     "name": "stdout",
     "output_type": "stream",
     "text": [
      "Labels:\n",
      "Bag\n",
      "Fashion\n",
      "Luggage & bags\n",
      "Handbag\n",
      "Shoulder Bag\n",
      "Tote bag\n",
      "Strap\n",
      "Leather\n",
      "Handle\n",
      "Diaper bag\n",
      "None\n"
     ]
    }
   ],
   "source": [
    "import os\n",
    "os.environ['GOOGLE_APPLICATION_CREDENTIALS']=\"sunny-furnace-450323-j7-fb55f0c1398a.json\"\n",
    "\n",
    "def detect_labels(path):\n",
    "    \"\"\"Detects labels in the file.\"\"\"\n",
    "    from google.cloud import vision\n",
    "\n",
    "    client = vision.ImageAnnotatorClient()\n",
    "\n",
    "    with open(path, \"rb\") as image_file:\n",
    "        content = image_file.read()\n",
    "\n",
    "    image = vision.Image(content=content)\n",
    "\n",
    "    response = client.label_detection(image=image)\n",
    "    labels = response.label_annotations\n",
    "    print(\"Labels:\")\n",
    "\n",
    "    for label in labels:\n",
    "        print(label.description)\n",
    "\n",
    "    if response.error.message:\n",
    "        raise Exception(\n",
    "            \"{}\\nFor more info on error messages, check: \"\n",
    "            \"https://cloud.google.com/apis/design/errors\".format(response.error.message)\n",
    "        )\n",
    "print(detect_labels('handbag1.jpg'))\n",
    "# print(detect_labels('hb2.jpg'))\n",
    "# print(detect_labels('chairDesk.jpg'))\n",
    "\n"
   ]
  },
  {
   "cell_type": "code",
   "execution_count": null,
   "id": "83eb10d1-240a-4914-bde4-5939973b8308",
   "metadata": {},
   "outputs": [],
   "source": []
  }
 ],
 "metadata": {
  "kernelspec": {
   "display_name": "Python 3 (ipykernel)",
   "language": "python",
   "name": "python3"
  },
  "language_info": {
   "codemirror_mode": {
    "name": "ipython",
    "version": 3
   },
   "file_extension": ".py",
   "mimetype": "text/x-python",
   "name": "python",
   "nbconvert_exporter": "python",
   "pygments_lexer": "ipython3",
   "version": "3.13.0"
  }
 },
 "nbformat": 4,
 "nbformat_minor": 5
}
